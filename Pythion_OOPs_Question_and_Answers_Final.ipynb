{
  "nbformat": 4,
  "nbformat_minor": 0,
  "metadata": {
    "colab": {
      "provenance": []
    },
    "kernelspec": {
      "name": "python3",
      "display_name": "Python 3"
    },
    "language_info": {
      "name": "python"
    }
  },
  "cells": [
    {
      "cell_type": "markdown",
      "source": [
        "\n",
        "# **Python OOPs Question and Answers (Theoritical)**\n",
        "\n",
        "1. What is Object-Oriented Programming (OOP)?\n",
        "\n",
        "Ans: OOP is a programming paradigm based on the concept of objects, which can contain data (attributes) and methods (functions). It helps in creating modular, reusable, and maintainable code. OOP focuses on four main principles: encapsulation, abstraction, inheritance, and polymorphism.\n",
        "\n",
        "2. What is a class in OOP?\n",
        "\n",
        "Ans: A class is a blueprint or template for creating objects. It defines attributes (data) and methods (behavior) that its objects will have.\n",
        "\n",
        "3. What is an object in OOP?\n",
        "\n",
        "Ans: An object is an instance of a class. It represents a real-world entity and contains the actual values for the attributes defined in the class.\n",
        "\n",
        "4. Difference between abstraction and encapsulation\n",
        "\n",
        "Ans: Abstraction: Hiding implementation details and showing only the necessary features (using interfaces/abstract classes).\n",
        "\n",
        "Encapsulation: Wrapping data and methods into a single unit (class) and restricting direct access using access modifiers (private, protected, public).\n",
        "\n",
        "5. What are dunder methods in Python?\n",
        "\n",
        "Ans: Dunder methods are special methods in Python with names like __init__, __str__, __repr__, etc. They allow customization of object behavior (initialization, string representation, operator overloading).\n",
        "\n",
        "6. Explain the concept of inheritance in OOP\n",
        "\n",
        "Ans: Inheritance allows one class (child/subclass) to acquire properties and methods from another class (parent/superclass). It promotes code reuse and hierarchy modeling.\n",
        "\n",
        "7. What is polymorphism in OOP?\n",
        "\n",
        "Ans: Polymorphism means “many forms.” It allows the same method name or operator to behave differently based on the context (method overriding in subclasses).\n",
        "\n",
        "8. How is encapsulation achieved in Python?\n",
        "\n",
        "Ans: Encapsulation is achieved using private attributes (__variable) and getter/setter methods or property decorators to control access to class data.\n",
        "\n",
        "9. What is a constructor in Python?\n",
        "\n",
        "Ans: A constructor is a special method __init__() in Python that automatically executes when a new object is created, initializing its attributes.\n",
        "\n",
        "10. What are class and static methods in Python?\n",
        "\n",
        "Ans: Class Method (@classmethod): Works with the class itself and takes cls as the first argument. Used to modify class-level data.\n",
        "\n",
        "Static Method (@staticmethod): Doesn’t depend on class or instance. It’s like a normal function inside a class.\n",
        "\n",
        "11. What is method overloading in Python?\n",
        "\n",
        "Ans: Method overloading means having multiple methods with the same name but different parameters. Python does not support it directly, but it can be simulated using default arguments.\n",
        "\n",
        "12. What is method overriding in OOP?\n",
        "\n",
        "Ans: Method overriding occurs when a subclass defines a method with the same name as its parent class, providing its own implementation.\n",
        "\n",
        "13. What is a property decorator in Python?\n",
        "\n",
        "Ans: The property decorator allows a method to be accessed like an attribute while still controlling access. It is used to implement getters, setters, and deleters in a Pythonic way.\n",
        "\n",
        "14. Why is polymorphism important in OOP?\n",
        "\n",
        "Ans: Polymorphism allows flexibility and extensibility in code. It enables using a single interface to represent different underlying data types, reducing duplication and improving maintainability.\n",
        "\n",
        "15. What is an abstract class in Python?\n",
        "\n",
        "Ans: An abstract class is a class defined using the abc module with at least one abstract method (declared but not implemented). It cannot be instantiated and is meant to be inherited.\n",
        "\n",
        "16. What are the advantages of OOP?\n",
        "\n",
        "Ans:\n",
        "\n",
        "Code reusability (via inheritance)\n",
        "\n",
        "Better organization and modularity\n",
        "\n",
        "Data security (via encapsulation)\n",
        "\n",
        "Extensibility and flexibility (via polymorphism)\n",
        "\n",
        "Easier debugging and maintenance\n",
        "\n",
        "17. What is the difference between a class variable and an instance variable?\n",
        "\n",
        "Ans: Class Variable: Shared by all instances of a class (defined outside methods). Instance Variable: Unique to each object (defined inside __init__).\n",
        "\n",
        "18. What is multiple inheritance in Python?\n",
        "\n",
        "Ans: Multiple inheritance means a class can inherit from more than one parent class. Python supports it using the Method Resolution Order (MRO) to avoid conflicts.\n",
        "\n",
        "19. Explain the purpose of ’__str__’ and ‘__repr__’ methods in Python?\n",
        "\n",
        "Ans: __str__: Returns a readable, user-friendly string representation of an object (used by print()). __repr__: Returns an official, developer-oriented string representation, ideally unambiguous.\n",
        "\n",
        "20. What is the significance of the ‘super()’ function in Python?\n",
        "\n",
        "Ans: super() is used to call methods from a parent/superclass in a subclass. It is commonly used in constructors (__init__) to initialize inherited attributes.\n",
        "\n",
        "21. What is the significance of the __del__ method in Python?\n",
        "\n",
        "Ans: __del__ is a destructor method that is automatically called when an object is about to be destroyed (garbage collected). It is used for cleanup (e.g., closing files, releasing resources).\n",
        "\n",
        "22. What is the difference between @staticmethod and @classmethod in Python?\n",
        "\n",
        "Ans: @staticmethod: Doesn’t access class or instance data; acts like a plain function inside a class. @classmethod: Works with the class (cls), can modify class-level attributes.\n",
        "\n",
        "23. How does polymorphism work in Python with inheritance?\n",
        "\n",
        "Ans: Polymorphism in inheritance allows a subclass to override methods of its parent. When the method is called on an object, Python decides which version to execute based on the object’s class.\n",
        "\n",
        "24. What is method chaining in Python OOP?\n",
        "\n",
        "Ans: Method chaining means calling multiple methods sequentially in a single line, where each method returns self.\n",
        "\n",
        "25. What is the purpose of the __call__ method in Python?\n",
        "\n",
        "Ans: __call__ allows an object to be called like a function. If defined, object() executes object.__call__(). It is used to make objects behave like functions."
      ],
      "metadata": {
        "id": "2JqUOAWb5RT0"
      }
    },
    {
      "cell_type": "markdown",
      "source": [
        "# **Python OOPs practical questions**"
      ],
      "metadata": {
        "id": "EHiZCBj8-8IW"
      }
    },
    {
      "cell_type": "code",
      "source": [
        "# 1. Parent class Animal and Child class Dog\n",
        "class Animal:\n",
        "    def speak(self):\n",
        "        print(\"This is a generic animal sound.\")\n",
        "\n",
        "class Dog(Animal):\n",
        "    def speak(self):\n",
        "        print(\"Bark!\")\n",
        "\n",
        "d = Dog()\n",
        "d.speak()"
      ],
      "metadata": {
        "colab": {
          "base_uri": "https://localhost:8080/"
        },
        "id": "bj_hJD-k5OgO",
        "outputId": "30b10abf-55d5-4d9d-8675-061a290f8c15"
      },
      "execution_count": 4,
      "outputs": [
        {
          "output_type": "stream",
          "name": "stdout",
          "text": [
            "Bark!\n"
          ]
        }
      ]
    },
    {
      "cell_type": "code",
      "execution_count": 5,
      "metadata": {
        "colab": {
          "base_uri": "https://localhost:8080/"
        },
        "id": "BHNzw0jj5HAL",
        "outputId": "c24129c3-6e08-4200-c37f-588c7d54a66a"
      },
      "outputs": [
        {
          "output_type": "stream",
          "name": "stdout",
          "text": [
            "Circle area: 78.5\n",
            "Rectangle area: 24\n"
          ]
        }
      ],
      "source": [
        "# 2. Abstract class Shape with Circle and Rectangle\n",
        "from abc import ABC, abstractmethod\n",
        "\n",
        "class Shape(ABC):\n",
        "    @abstractmethod\n",
        "    def area(self):\n",
        "        pass\n",
        "\n",
        "class Circle(Shape):\n",
        "    def __init__(self, radius):\n",
        "        self.radius = radius\n",
        "\n",
        "    def area(self):\n",
        "        return 3.14 * self.radius * self.radius\n",
        "\n",
        "class Rectangle(Shape):\n",
        "    def __init__(self, width, height):\n",
        "        self.width = width\n",
        "        self.height = height\n",
        "\n",
        "    def area(self):\n",
        "        return self.width * self.height\n",
        "\n",
        "c = Circle(5)\n",
        "r = Rectangle(4, 6)\n",
        "print(\"Circle area:\", c.area())\n",
        "print(\"Rectangle area:\", r.area())\n"
      ]
    },
    {
      "cell_type": "code",
      "source": [
        "# 3. Multi-level inheritance: Vehicle → Car → ElectricCar\n",
        "class Vehicle:\n",
        "    def __init__(self, type):\n",
        "        self.type = type\n",
        "\n",
        "class Car(Vehicle):\n",
        "    def __init__(self, type, brand):\n",
        "        super().__init__(type)\n",
        "        self.brand = brand\n",
        "\n",
        "class ElectricCar(Car):\n",
        "    def __init__(self, type, brand, battery):\n",
        "        super().__init__(type, brand)\n",
        "        self.battery = battery\n",
        "\n",
        "e = ElectricCar(\"Four-Wheeler\", \"Tesla\", \"100 kWh\")\n",
        "print(e.type, e.brand, e.battery)"
      ],
      "metadata": {
        "colab": {
          "base_uri": "https://localhost:8080/"
        },
        "id": "0I1O-l9vA7OI",
        "outputId": "05703cf9-deff-4697-a501-9aac98e61cbd"
      },
      "execution_count": 6,
      "outputs": [
        {
          "output_type": "stream",
          "name": "stdout",
          "text": [
            "Four-Wheeler Tesla 100 kWh\n"
          ]
        }
      ]
    },
    {
      "cell_type": "code",
      "source": [
        "# 4. Polymorphism with Bird, Sparrow, Penguin\n",
        "class Bird:\n",
        "    def fly(self):\n",
        "        print(\"Some birds can fly.\")\n",
        "\n",
        "class Sparrow(Bird):\n",
        "    def fly(self):\n",
        "        print(\"Sparrow can fly high!\")\n",
        "\n",
        "class Penguin(Bird):\n",
        "    def fly(self):\n",
        "        print(\"Penguins cannot fly.\")\n",
        "\n",
        "b = [Sparrow(), Penguin()]\n",
        "for bird in b:\n",
        "    bird.fly()\n"
      ],
      "metadata": {
        "colab": {
          "base_uri": "https://localhost:8080/"
        },
        "id": "Hd3UTAPrBHIr",
        "outputId": "c9cbea12-dfa6-4d4a-e21e-9b6dbc127ba7"
      },
      "execution_count": 7,
      "outputs": [
        {
          "output_type": "stream",
          "name": "stdout",
          "text": [
            "Sparrow can fly high!\n",
            "Penguins cannot fly.\n"
          ]
        }
      ]
    },
    {
      "cell_type": "code",
      "source": [
        "# 5. Encapsulation with BankAccount\n",
        "class BankAccount:\n",
        "    def __init__(self, balance=0):\n",
        "        self.__balance = balance\n",
        "\n",
        "    def deposit(self, amount):\n",
        "        self.__balance += amount\n",
        "\n",
        "    def withdraw(self, amount):\n",
        "        if amount <= self.__balance:\n",
        "            self.__balance -= amount\n",
        "        else:\n",
        "            print(\"Insufficient balance!\")\n",
        "\n",
        "    def check_balance(self):\n",
        "        return self.__balance\n",
        "\n",
        "acc = BankAccount(100)\n",
        "acc.deposit(50)\n",
        "acc.withdraw(30)\n",
        "print(\"Balance:\", acc.check_balance())\n"
      ],
      "metadata": {
        "colab": {
          "base_uri": "https://localhost:8080/"
        },
        "id": "g4r7EbWuBLOk",
        "outputId": "933fafe3-e4b4-4c36-f6ab-5785116ca9fa"
      },
      "execution_count": 8,
      "outputs": [
        {
          "output_type": "stream",
          "name": "stdout",
          "text": [
            "Balance: 120\n"
          ]
        }
      ]
    },
    {
      "cell_type": "code",
      "source": [
        "# 6. Runtime polymorphism with Instrument\n",
        "class Instrument:\n",
        "    def play(self):\n",
        "        print(\"Instrument is playing.\")\n",
        "\n",
        "class Guitar(Instrument):\n",
        "    def play(self):\n",
        "        print(\"Strumming the guitar.\")\n",
        "\n",
        "class Piano(Instrument):\n",
        "    def play(self):\n",
        "        print(\"Playing the piano.\")\n",
        "\n",
        "instruments = [Guitar(), Piano()]\n",
        "for i in instruments:\n",
        "    i.play()\n"
      ],
      "metadata": {
        "colab": {
          "base_uri": "https://localhost:8080/"
        },
        "id": "VwH45-83BOUL",
        "outputId": "a2895da8-a46a-4128-96e8-630c6863cb4b"
      },
      "execution_count": 9,
      "outputs": [
        {
          "output_type": "stream",
          "name": "stdout",
          "text": [
            "Strumming the guitar.\n",
            "Playing the piano.\n"
          ]
        }
      ]
    },
    {
      "cell_type": "code",
      "source": [
        "# 7. Class and Static Methods\n",
        "class MathOperations:\n",
        "    @classmethod\n",
        "    def add_numbers(cls, a, b):\n",
        "        return a + b\n",
        "\n",
        "    @staticmethod\n",
        "    def subtract_numbers(a, b):\n",
        "        return a - b\n",
        "\n",
        "print(MathOperations.add_numbers(10, 5))\n",
        "print(MathOperations.subtract_numbers(10, 5))\n"
      ],
      "metadata": {
        "colab": {
          "base_uri": "https://localhost:8080/"
        },
        "id": "97zJw3oZBSic",
        "outputId": "07df9c79-5f37-43ef-fae2-f8e71422fb22"
      },
      "execution_count": 10,
      "outputs": [
        {
          "output_type": "stream",
          "name": "stdout",
          "text": [
            "15\n",
            "5\n"
          ]
        }
      ]
    },
    {
      "cell_type": "code",
      "source": [
        "# 8. Person counting total persons created\n",
        "class Person:\n",
        "    count = 0\n",
        "\n",
        "    def __init__(self, name):\n",
        "        self.name = name\n",
        "        Person.count += 1\n",
        "\n",
        "    @classmethod\n",
        "    def total_persons(cls):\n",
        "        return cls.count\n",
        "\n",
        "p1 = Person(\"Alice\")\n",
        "p2 = Person(\"Bob\")\n",
        "print(\"Total Persons:\", Person.total_persons())\n"
      ],
      "metadata": {
        "colab": {
          "base_uri": "https://localhost:8080/"
        },
        "id": "PT3FTMAcBVbB",
        "outputId": "ca614982-5fdf-40e1-b8a5-fbcb3db99ac7"
      },
      "execution_count": 11,
      "outputs": [
        {
          "output_type": "stream",
          "name": "stdout",
          "text": [
            "Total Persons: 2\n"
          ]
        }
      ]
    },
    {
      "cell_type": "code",
      "source": [
        "# 9. Fraction with __str__\n",
        "class Fraction:\n",
        "    def __init__(self, numerator, denominator):\n",
        "        self.numerator = numerator\n",
        "        self.denominator = denominator\n",
        "\n",
        "    def __str__(self):\n",
        "        return f\"{self.numerator}/{self.denominator}\"\n",
        "\n",
        "f = Fraction(3, 4)\n",
        "print(f)"
      ],
      "metadata": {
        "colab": {
          "base_uri": "https://localhost:8080/"
        },
        "id": "7sYoQbKWBX1J",
        "outputId": "e1c976ad-64ab-4eec-b4e7-5c87ba65d556"
      },
      "execution_count": 12,
      "outputs": [
        {
          "output_type": "stream",
          "name": "stdout",
          "text": [
            "3/4\n"
          ]
        }
      ]
    },
    {
      "cell_type": "code",
      "source": [
        "# 10. Operator overloading with Vector\n",
        "class Vector:\n",
        "    def __init__(self, x, y):\n",
        "        self.x = x\n",
        "        self.y = y\n",
        "\n",
        "    def __add__(self, other):\n",
        "        return Vector(self.x + other.x, self.y + other.y)\n",
        "\n",
        "    def __str__(self):\n",
        "        return f\"Vector({self.x}, {self.y})\"\n",
        "\n",
        "v1 = Vector(1, 2)\n",
        "v2 = Vector(3, 4)\n",
        "print(v1 + v2)\n"
      ],
      "metadata": {
        "colab": {
          "base_uri": "https://localhost:8080/"
        },
        "id": "xtBEAMUNBgUh",
        "outputId": "752b2faa-b1df-44f8-b85a-76214c844267"
      },
      "execution_count": 13,
      "outputs": [
        {
          "output_type": "stream",
          "name": "stdout",
          "text": [
            "Vector(4, 6)\n"
          ]
        }
      ]
    },
    {
      "cell_type": "code",
      "source": [
        "# 11. Person with greet method\n",
        "class Person:\n",
        "    def __init__(self, name, age):\n",
        "        self.name = name\n",
        "        self.age = age\n",
        "\n",
        "    def greet(self):\n",
        "        print(f\"Hello, my name is {self.name} and I am {self.age} years old.\")\n",
        "\n",
        "p = Person(\"Alice\", 25)\n",
        "p.greet()"
      ],
      "metadata": {
        "colab": {
          "base_uri": "https://localhost:8080/"
        },
        "id": "_EvABEZoBjbK",
        "outputId": "50e98cc6-b695-45f9-b187-d2bc78c2dc4f"
      },
      "execution_count": 14,
      "outputs": [
        {
          "output_type": "stream",
          "name": "stdout",
          "text": [
            "Hello, my name is Alice and I am 25 years old.\n"
          ]
        }
      ]
    },
    {
      "cell_type": "code",
      "source": [
        "# 12. Student with average grade\n",
        "class Student:\n",
        "    def __init__(self, name, grades):\n",
        "        self.name = name\n",
        "        self.grades = grades\n",
        "\n",
        "    def average_grade(self):\n",
        "        return sum(self.grades) / len(self.grades)\n",
        "\n",
        "s = Student(\"John\", [90, 85, 80])\n",
        "print(\"Average Grade:\", s.average_grade())\n"
      ],
      "metadata": {
        "colab": {
          "base_uri": "https://localhost:8080/"
        },
        "id": "uNfPqf1PBkoC",
        "outputId": "b5e1c6b3-e979-4c60-8866-e23721e6ce2e"
      },
      "execution_count": 15,
      "outputs": [
        {
          "output_type": "stream",
          "name": "stdout",
          "text": [
            "Average Grade: 85.0\n"
          ]
        }
      ]
    },
    {
      "cell_type": "code",
      "source": [
        "# 13. Rectangle with set_dimensions and area\n",
        "class Rectangle:\n",
        "    def set_dimensions(self, width, height):\n",
        "        self.width = width\n",
        "        self.height = height\n",
        "\n",
        "    def area(self):\n",
        "        return self.width * self.height\n",
        "\n",
        "r = Rectangle()\n",
        "r.set_dimensions(5, 10)\n",
        "print(\"Area:\", r.area())"
      ],
      "metadata": {
        "colab": {
          "base_uri": "https://localhost:8080/"
        },
        "id": "aLFVL2KaBoua",
        "outputId": "d04b84e0-0750-4d1e-b5e7-d77fffcb1974"
      },
      "execution_count": 16,
      "outputs": [
        {
          "output_type": "stream",
          "name": "stdout",
          "text": [
            "Area: 50\n"
          ]
        }
      ]
    },
    {
      "cell_type": "code",
      "source": [
        "# 14. Employee and Manager with bonus\n",
        "class Employee:\n",
        "    def calculate_salary(self, hours, rate):\n",
        "        return hours * rate\n",
        "\n",
        "class Manager(Employee):\n",
        "    def calculate_salary(self, hours, rate, bonus):\n",
        "        return super().calculate_salary(hours, rate) + bonus\n",
        "\n",
        "m = Manager()\n",
        "print(\"Manager Salary:\", m.calculate_salary(40, 50, 500))\n"
      ],
      "metadata": {
        "colab": {
          "base_uri": "https://localhost:8080/"
        },
        "id": "hNdUiIuoBrfM",
        "outputId": "b2cf4971-c9e0-4545-9fca-ec1f94d2cf6d"
      },
      "execution_count": 17,
      "outputs": [
        {
          "output_type": "stream",
          "name": "stdout",
          "text": [
            "Manager Salary: 2500\n"
          ]
        }
      ]
    },
    {
      "cell_type": "code",
      "source": [
        "# 15. Product with total price\n",
        "class Product:\n",
        "    def __init__(self, name, price, quantity):\n",
        "        self.name = name\n",
        "        self.price = price\n",
        "        self.quantity = quantity\n",
        "\n",
        "    def total_price(self):\n",
        "        return self.price * self.quantity\n",
        "\n",
        "p = Product(\"Laptop\", 1000, 2)\n",
        "print(\"Total Price:\", p.total_price())\n"
      ],
      "metadata": {
        "colab": {
          "base_uri": "https://localhost:8080/"
        },
        "id": "nK-aLudXBzzn",
        "outputId": "02ba3534-420d-450a-958a-dfb72019b86e"
      },
      "execution_count": 18,
      "outputs": [
        {
          "output_type": "stream",
          "name": "stdout",
          "text": [
            "Total Price: 2000\n"
          ]
        }
      ]
    },
    {
      "cell_type": "code",
      "source": [
        "# 16. Abstract class Animal → Cow, Sheep\n",
        "from abc import ABC, abstractmethod\n",
        "\n",
        "class Animal(ABC):\n",
        "    @abstractmethod\n",
        "    def sound(self):\n",
        "        pass\n",
        "\n",
        "class Cow(Animal):\n",
        "    def sound(self):\n",
        "        return \"Moo\"\n",
        "\n",
        "class Sheep(Animal):\n",
        "    def sound(self):\n",
        "        return \"Baa\"\n",
        "\n",
        "c = Cow()\n",
        "s = Sheep()\n",
        "print(c.sound())\n",
        "print(s.sound())\n"
      ],
      "metadata": {
        "colab": {
          "base_uri": "https://localhost:8080/"
        },
        "id": "buD0Rnv2B2YK",
        "outputId": "7d9e6303-d3b3-40fe-8c55-10dce37989fa"
      },
      "execution_count": 19,
      "outputs": [
        {
          "output_type": "stream",
          "name": "stdout",
          "text": [
            "Moo\n",
            "Baa\n"
          ]
        }
      ]
    },
    {
      "cell_type": "code",
      "source": [
        "# 17. Book with get_book_info\n",
        "class Book:\n",
        "    def __init__(self, title, author, year_published):\n",
        "        self.title = title\n",
        "        self.author = author\n",
        "        self.year_published = year_published\n",
        "\n",
        "    def get_book_info(self):\n",
        "        return f\"'{self.title}' by {self.author}, published in {self.year_published}\"\n",
        "\n",
        "b = Book(\"1984\", \"George Orwell\", 1949)\n",
        "print(b.get_book_info())\n"
      ],
      "metadata": {
        "colab": {
          "base_uri": "https://localhost:8080/"
        },
        "id": "irKA6xXJB6Ut",
        "outputId": "fab5af61-ee89-4640-e22e-c224246f64e4"
      },
      "execution_count": 20,
      "outputs": [
        {
          "output_type": "stream",
          "name": "stdout",
          "text": [
            "'1984' by George Orwell, published in 1949\n"
          ]
        }
      ]
    },
    {
      "cell_type": "code",
      "source": [
        "# 18. House → Mansion\n",
        "class House:\n",
        "    def __init__(self, address, price):\n",
        "        self.address = address\n",
        "        self.price = price\n",
        "\n",
        "class Mansion(House):\n",
        "    def __init__(self, address, price, number_of_rooms):\n",
        "        super().__init__(address, price)\n",
        "        self.number_of_rooms = number_of_rooms\n",
        "\n",
        "m = Mansion(\"123 Street\", 500000, 10)\n",
        "print(m.address, m.price, m.number_of_rooms)\n"
      ],
      "metadata": {
        "colab": {
          "base_uri": "https://localhost:8080/"
        },
        "id": "NR6z3GJzB6G5",
        "outputId": "0af5738b-464f-4d7c-f4d3-236b53d54d6a"
      },
      "execution_count": 21,
      "outputs": [
        {
          "output_type": "stream",
          "name": "stdout",
          "text": [
            "123 Street 500000 10\n"
          ]
        }
      ]
    }
  ]
}